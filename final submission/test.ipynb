{
 "cells": [
  {
   "cell_type": "code",
   "execution_count": 55,
   "id": "d7d95ac9-0bf3-49bf-97db-1dad6f96da2a",
   "metadata": {},
   "outputs": [
    {
     "name": "stdout",
     "output_type": "stream",
     "text": [
      "t-statistic: 32.86798375679778\n"
     ]
    }
   ],
   "source": [
    "import math\n",
    "\n",
    "r = 0.7031\n",
    "N = 1107\n",
    "\n",
    "t_statistic = r * math.sqrt(N - 2) / math.sqrt(1 - r**2)\n",
    "print(\"t-statistic:\", t_statistic)\n"
   ]
  },
  {
   "cell_type": "code",
   "execution_count": 36,
   "id": "520b7fae-f3a9-49ee-8a0c-4494b08ece35",
   "metadata": {},
   "outputs": [
    {
     "name": "stdout",
     "output_type": "stream",
     "text": [
      "p-value: 0.0\n"
     ]
    }
   ],
   "source": [
    "from scipy.stats import t\n",
    "\n",
    "df = 1107\n",
    "p_value = 2 * (1 - t.cdf(abs(t_statistic), df))\n",
    "print(\"p-value:\", p_value)\n"
   ]
  },
  {
   "cell_type": "code",
   "execution_count": 7,
   "id": "0ea0ad88-bd42-4e3d-a339-6bab5f11507a",
   "metadata": {},
   "outputs": [],
   "source": [
    "import pandas as pd"
   ]
  },
  {
   "cell_type": "code",
   "execution_count": 58,
   "id": "5e07bd32-ce1c-41fb-93fe-667879cd804a",
   "metadata": {},
   "outputs": [],
   "source": [
    "df = pd.read_excel(\"Data-01.xlsx\")"
   ]
  },
  {
   "cell_type": "code",
   "execution_count": 48,
   "id": "6c4011a3-9a4f-4ef3-93b6-fcfb713b41d6",
   "metadata": {},
   "outputs": [],
   "source": [
    "x = df['loss/bag'].to_numpy()\n",
    "y = df['days'].to_numpy()"
   ]
  },
  {
   "cell_type": "code",
   "execution_count": null,
   "id": "5eda24c1-a0f1-4453-9422-0785cca3a364",
   "metadata": {},
   "outputs": [],
   "source": []
  },
  {
   "cell_type": "code",
   "execution_count": null,
   "id": "3a4dc0cf-e4e8-4468-bc6f-56c17d123d6b",
   "metadata": {},
   "outputs": [],
   "source": []
  },
  {
   "cell_type": "code",
   "execution_count": 49,
   "id": "00ed3b0a-718f-4ebb-bb68-e2006013b6e4",
   "metadata": {},
   "outputs": [
    {
     "name": "stdout",
     "output_type": "stream",
     "text": [
      "Correlation Coefficient: 0.7030866930118612\n"
     ]
    }
   ],
   "source": [
    "# Create two NumPy arrays\n",
    "import numpy as np\n",
    "# Calculate the mean of x and y\n",
    "mean_x = np.mean(x)\n",
    "mean_y = np.mean(y)\n",
    "\n",
    "# Calculate the numerator and denominator of the correlation coefficient formula\n",
    "numerator = np.sum((x - mean_x) * (y - mean_y))\n",
    "denominator = np.sqrt(np.sum((x - mean_x)**2) * np.sum((y - mean_y)**2))\n",
    "\n",
    "# Calculate the correlation coefficient\n",
    "correlation_coefficient = numerator / denominator\n",
    "\n",
    "print(f\"Correlation Coefficient: {correlation_coefficient}\")\n"
   ]
  },
  {
   "cell_type": "code",
   "execution_count": 50,
   "id": "cbd84647-a401-4c7c-adac-08c91954bd03",
   "metadata": {},
   "outputs": [
    {
     "data": {
      "text/plain": [
       "(1.7490864847251233, 212.70604147880974)"
      ]
     },
     "execution_count": 50,
     "metadata": {},
     "output_type": "execute_result"
    }
   ],
   "source": [
    "mean_x,mean_y"
   ]
  },
  {
   "cell_type": "code",
   "execution_count": 51,
   "id": "c719a7c9-cab0-4387-ad18-eb3628f439a6",
   "metadata": {},
   "outputs": [
    {
     "data": {
      "text/plain": [
       "3558.633233777766"
      ]
     },
     "execution_count": 51,
     "metadata": {},
     "output_type": "execute_result"
    }
   ],
   "source": [
    "numerator"
   ]
  },
  {
   "cell_type": "code",
   "execution_count": 52,
   "id": "29c0567b-3fe3-40f7-b383-cfe6bbe2034c",
   "metadata": {},
   "outputs": [
    {
     "data": {
      "text/plain": [
       "25618205.429992165"
      ]
     },
     "execution_count": 52,
     "metadata": {},
     "output_type": "execute_result"
    }
   ],
   "source": [
    "denominator**2"
   ]
  },
  {
   "cell_type": "code",
   "execution_count": 53,
   "id": "ffbcad1f-f9b4-4f12-a2c8-10a656c0db18",
   "metadata": {},
   "outputs": [
    {
     "name": "stdout",
     "output_type": "stream",
     "text": [
      "t-statistic: 2.5802778476613337\n"
     ]
    }
   ],
   "source": [
    "from scipy.stats import t\n",
    "\n",
    "df = 1107\n",
    "alpha = 0.01\n",
    "\n",
    "# Calculate the t-statistic for a two-tailed test\n",
    "t_statistic = t.ppf(1 - alpha/2, df)\n",
    "print(\"t-statistic:\", t_statistic)\n"
   ]
  },
  {
   "cell_type": "code",
   "execution_count": 68,
   "id": "642d23d6-21ab-40fa-8970-27eff5e6120d",
   "metadata": {},
   "outputs": [
    {
     "data": {
      "text/plain": [
       "71491.70000000001"
      ]
     },
     "execution_count": 68,
     "metadata": {},
     "output_type": "execute_result"
    }
   ],
   "source": [
    "df['loss'].sum()"
   ]
  },
  {
   "cell_type": "code",
   "execution_count": 66,
   "id": "5cb6d02e-aea7-4f29-b7b9-47a65a1ef594",
   "metadata": {},
   "outputs": [
    {
     "data": {
      "text/plain": [
       "767506073.5"
      ]
     },
     "execution_count": 66,
     "metadata": {},
     "output_type": "execute_result"
    }
   ],
   "source": [
    "(df['days']*df['total_weight_out']).sum()"
   ]
  },
  {
   "cell_type": "code",
   "execution_count": 71,
   "id": "89c46fba-71b9-4f22-a64a-07b7def3b9c9",
   "metadata": {},
   "outputs": [
    {
     "data": {
      "text/plain": [
       "0.27944417302386343"
      ]
     },
     "execution_count": 71,
     "metadata": {},
     "output_type": "execute_result"
    }
   ],
   "source": [
    "(df['loss'].sum()*3000)/((df['days']*df['total_weight_out']).sum())"
   ]
  },
  {
   "cell_type": "code",
   "execution_count": null,
   "id": "ef974383-679e-48f2-b4f6-ada1576afd84",
   "metadata": {},
   "outputs": [],
   "source": []
  },
  {
   "cell_type": "code",
   "execution_count": null,
   "id": "12d3ed1a-90ae-4851-a338-984f32d57c5f",
   "metadata": {},
   "outputs": [],
   "source": []
  },
  {
   "cell_type": "code",
   "execution_count": 1,
   "id": "acd64177-be36-4160-91bb-26be049c92dd",
   "metadata": {},
   "outputs": [],
   "source": [
    "import pandas as pd"
   ]
  },
  {
   "cell_type": "code",
   "execution_count": 3,
   "id": "623fb2fc-ac1e-489e-bdc6-6bbc9894c88b",
   "metadata": {},
   "outputs": [],
   "source": [
    "df = pd.read_excel('Data-01.xlsx')"
   ]
  },
  {
   "cell_type": "code",
   "execution_count": 9,
   "id": "e12b1c1d-ae10-48bf-bc99-db12f9ca99e9",
   "metadata": {},
   "outputs": [
    {
     "data": {
      "text/plain": [
       "array([['Chana', 2744.1568, 2981.069003733334, 2797.2000000000003],\n",
       "       ['Chana', 1351.194, 1466.04549, 1377.0],\n",
       "       ['Wheat', 3106.7633333333333, 3344.948522222222,\n",
       "        3173.9999999999995],\n",
       "       ...,\n",
       "       ['Chana', 1617.4272, 1716.0902592, 1647.0],\n",
       "       ['Chana', 1439.48, 1532.5663733333333, 1466.64],\n",
       "       ['Chana', 1344.5159999999998, 1429.6686799999998, 1368.0]],\n",
       "      dtype=object)"
      ]
     },
     "execution_count": 9,
     "metadata": {},
     "output_type": "execute_result"
    }
   ],
   "source": [
    "ar = df[['item','current_charge','interest_charge', 'weighted_charging']].to_numpy()\n",
    "ar"
   ]
  },
  {
   "cell_type": "code",
   "execution_count": 21,
   "id": "a8b79ea9-b6f8-4f59-9f45-8c78c65ea2e3",
   "metadata": {},
   "outputs": [
    {
     "name": "stdout",
     "output_type": "stream",
     "text": [
      "[638079.4867999998 684203.5603422666 650817.0]\n",
      "[1024794.0206666657 1099465.348543556 1045403.3999999998]\n",
      "[1001826.6519999999 1074051.481788444 1021797.5999999997]\n"
     ]
    }
   ],
   "source": [
    "print(ar[ar[:,0]=='Chana'][:,1:].sum(axis=0))\n",
    "print(ar[ar[:,0]=='Wheat'][:,1:].sum(axis=0))\n",
    "print(ar[ar[:,0]=='Soyabean'][:,1:].sum(axis=0))"
   ]
  },
  {
   "cell_type": "code",
   "execution_count": 17,
   "id": "785b40a9-63e9-4b2a-bce4-dc084ee3b1b2",
   "metadata": {},
   "outputs": [
    {
     "data": {
      "text/plain": [
       "array([1001826.6519999999, 1074051.481788444, 1021797.5999999997],\n",
       "      dtype=object)"
      ]
     },
     "execution_count": 17,
     "metadata": {},
     "output_type": "execute_result"
    }
   ],
   "source": [
    "ar[ar[:,0]=='Soyabean'][:,1:].sum(axis=0)"
   ]
  },
  {
   "cell_type": "code",
   "execution_count": 18,
   "id": "2161fe6e-1910-4a95-ba25-469801e79d80",
   "metadata": {},
   "outputs": [
    {
     "data": {
      "text/plain": [
       "array([1024794.0206666657, 1099465.348543556, 1045403.3999999998],\n",
       "      dtype=object)"
      ]
     },
     "execution_count": 18,
     "metadata": {},
     "output_type": "execute_result"
    }
   ],
   "source": [
    "ar[ar[:,0]=='Wheat'][:,1:].sum(axis=0)"
   ]
  },
  {
   "cell_type": "code",
   "execution_count": null,
   "id": "52711157-a22b-4d03-9f9b-2f95d2e47e0f",
   "metadata": {},
   "outputs": [],
   "source": []
  }
 ],
 "metadata": {
  "kernelspec": {
   "display_name": "Python 3 (ipykernel)",
   "language": "python",
   "name": "python3"
  },
  "language_info": {
   "codemirror_mode": {
    "name": "ipython",
    "version": 3
   },
   "file_extension": ".py",
   "mimetype": "text/x-python",
   "name": "python",
   "nbconvert_exporter": "python",
   "pygments_lexer": "ipython3",
   "version": "3.11.5"
  }
 },
 "nbformat": 4,
 "nbformat_minor": 5
}
