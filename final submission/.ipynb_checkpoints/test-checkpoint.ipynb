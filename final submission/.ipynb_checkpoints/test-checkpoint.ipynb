{
 "cells": [
  {
   "cell_type": "code",
   "execution_count": 5,
   "id": "d7d95ac9-0bf3-49bf-97db-1dad6f96da2a",
   "metadata": {},
   "outputs": [
    {
     "name": "stdout",
     "output_type": "stream",
     "text": [
      "t-statistic: 35.55394585309321\n"
     ]
    }
   ],
   "source": [
    "import math\n",
    "\n",
    "r = 0.73\n",
    "N = 1110\n",
    "\n",
    "t_statistic = r * math.sqrt(N - 2) / math.sqrt(1 - r**2)\n",
    "print(\"t-statistic:\", t_statistic)\n"
   ]
  },
  {
   "cell_type": "code",
   "execution_count": 6,
   "id": "520b7fae-f3a9-49ee-8a0c-4494b08ece35",
   "metadata": {},
   "outputs": [
    {
     "name": "stdout",
     "output_type": "stream",
     "text": [
      "p-value: 0.0\n"
     ]
    }
   ],
   "source": [
    "from scipy.stats import t\n",
    "\n",
    "df = 1108\n",
    "p_value = 2 * (1 - t.cdf(abs(t_statistic), df))\n",
    "print(\"p-value:\", p_value)\n"
   ]
  },
  {
   "cell_type": "code",
   "execution_count": 7,
   "id": "0ea0ad88-bd42-4e3d-a339-6bab5f11507a",
   "metadata": {},
   "outputs": [],
   "source": [
    "import pandas as pd"
   ]
  },
  {
   "cell_type": "code",
   "execution_count": 10,
   "id": "5e07bd32-ce1c-41fb-93fe-667879cd804a",
   "metadata": {},
   "outputs": [],
   "source": [
    "df = pd.read_excel(\"Data-01.xlsx\")"
   ]
  },
  {
   "cell_type": "code",
   "execution_count": 19,
   "id": "6c4011a3-9a4f-4ef3-93b6-fcfb713b41d6",
   "metadata": {},
   "outputs": [],
   "source": [
    "x = df['loss/bag'].to_numpy()\n",
    "y = df['log_days'].to_numpy()"
   ]
  },
  {
   "cell_type": "code",
   "execution_count": 28,
   "id": "5eda24c1-a0f1-4453-9422-0785cca3a364",
   "metadata": {},
   "outputs": [],
   "source": [
    "val1 = (x*y).sum()*1109\n",
    "val2 = x.sum()*y.sum()\n",
    "val3 = (x*x).sum()"
   ]
  },
  {
   "cell_type": "code",
   "execution_count": null,
   "id": "3a4dc0cf-e4e8-4468-bc6f-56c17d123d6b",
   "metadata": {},
   "outputs": [],
   "source": []
  },
  {
   "cell_type": "code",
   "execution_count": 30,
   "id": "00ed3b0a-718f-4ebb-bb68-e2006013b6e4",
   "metadata": {},
   "outputs": [
    {
     "name": "stdout",
     "output_type": "stream",
     "text": [
      "Correlation Coefficient: 0.7327320319553603\n"
     ]
    }
   ],
   "source": [
    "# Create two NumPy arrays\n",
    "import numpy as np\n",
    "# Calculate the mean of x and y\n",
    "mean_x = np.mean(x)\n",
    "mean_y = np.mean(y)\n",
    "\n",
    "# Calculate the numerator and denominator of the correlation coefficient formula\n",
    "numerator = np.sum((x - mean_x) * (y - mean_y))\n",
    "denominator = np.sqrt(np.sum((x - mean_x)**2) * np.sum((y - mean_y)**2))\n",
    "\n",
    "# Calculate the correlation coefficient\n",
    "correlation_coefficient = numerator / denominator\n",
    "\n",
    "print(f\"Correlation Coefficient: {correlation_coefficient}\")\n"
   ]
  },
  {
   "cell_type": "code",
   "execution_count": 32,
   "id": "cbd84647-a401-4c7c-adac-08c91954bd03",
   "metadata": {},
   "outputs": [
    {
     "data": {
      "text/plain": [
       "(1.7490864847251233, 2.3219370115717437)"
      ]
     },
     "execution_count": 32,
     "metadata": {},
     "output_type": "execute_result"
    }
   ],
   "source": [
    "mean_x,mean_y"
   ]
  },
  {
   "cell_type": "code",
   "execution_count": 33,
   "id": "c719a7c9-cab0-4387-ad18-eb3628f439a6",
   "metadata": {},
   "outputs": [
    {
     "data": {
      "text/plain": [
       "9.397035285925236"
      ]
     },
     "execution_count": 33,
     "metadata": {},
     "output_type": "execute_result"
    }
   ],
   "source": [
    "numerator"
   ]
  },
  {
   "cell_type": "code",
   "execution_count": 35,
   "id": "29c0567b-3fe3-40f7-b383-cfe6bbe2034c",
   "metadata": {},
   "outputs": [
    {
     "data": {
      "text/plain": [
       "164.47176777056714"
      ]
     },
     "execution_count": 35,
     "metadata": {},
     "output_type": "execute_result"
    }
   ],
   "source": [
    "denominator**2"
   ]
  },
  {
   "cell_type": "code",
   "execution_count": null,
   "id": "ffbcad1f-f9b4-4f12-a2c8-10a656c0db18",
   "metadata": {},
   "outputs": [],
   "source": []
  }
 ],
 "metadata": {
  "kernelspec": {
   "display_name": "Python 3 (ipykernel)",
   "language": "python",
   "name": "python3"
  },
  "language_info": {
   "codemirror_mode": {
    "name": "ipython",
    "version": 3
   },
   "file_extension": ".py",
   "mimetype": "text/x-python",
   "name": "python",
   "nbconvert_exporter": "python",
   "pygments_lexer": "ipython3",
   "version": "3.11.5"
  }
 },
 "nbformat": 4,
 "nbformat_minor": 5
}
