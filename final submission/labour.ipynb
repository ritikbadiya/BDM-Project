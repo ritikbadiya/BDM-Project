{
 "cells": [
  {
   "cell_type": "code",
   "execution_count": 1,
   "id": "28adf11e-b3dd-48fa-99b2-a6d553cc91b7",
   "metadata": {},
   "outputs": [],
   "source": [
    "import pandas as pd"
   ]
  },
  {
   "cell_type": "code",
   "execution_count": 4,
   "id": "f659006e-564b-4cf1-b53d-006b5545a100",
   "metadata": {},
   "outputs": [],
   "source": [
    "df=pd.read_excel(\"Data-02.xlsx\")"
   ]
  },
  {
   "cell_type": "code",
   "execution_count": 6,
   "id": "5d9b1207-8ee4-4a36-a400-5e59ef2f74ca",
   "metadata": {},
   "outputs": [
    {
     "data": {
      "text/plain": [
       "0       30\n",
       "1       15\n",
       "2       46\n",
       "3       44\n",
       "4       24\n",
       "        ..\n",
       "1104    42\n",
       "1105    38\n",
       "1106    25\n",
       "1107    21\n",
       "1108    20\n",
       "Name: bags_count, Length: 1109, dtype: int64"
      ]
     },
     "execution_count": 6,
     "metadata": {},
     "output_type": "execute_result"
    }
   ],
   "source": [
    "df['bags_count']"
   ]
  },
  {
   "cell_type": "code",
   "execution_count": 7,
   "id": "525543ad-bed2-4913-ac24-d673ad9add36",
   "metadata": {},
   "outputs": [
    {
     "data": {
      "text/plain": [
       "0       20 February 2020\n",
       "1       20 February 2020\n",
       "2       20 February 2020\n",
       "3       21 February 2020\n",
       "4       21 February 2020\n",
       "              ...       \n",
       "1104       29 March 2023\n",
       "1105       31 March 2023\n",
       "1106       31 March 2023\n",
       "1107       31 March 2023\n",
       "1108       01 April 2023\n",
       "Name: sdate, Length: 1109, dtype: object"
      ]
     },
     "execution_count": 7,
     "metadata": {},
     "output_type": "execute_result"
    }
   ],
   "source": [
    "df['sdate']"
   ]
  },
  {
   "cell_type": "code",
   "execution_count": 8,
   "id": "6dfa3119-e0a2-458b-9930-690a42d628df",
   "metadata": {},
   "outputs": [
    {
     "data": {
      "text/plain": [
       "0        05 November 2020\n",
       "1        01 November 2020\n",
       "2         07 October 2020\n",
       "3         20 October 2020\n",
       "4       25 September 2020\n",
       "              ...        \n",
       "1104      26 October 2023\n",
       "1105      28 October 2023\n",
       "1106    30 September 2023\n",
       "1107      11 October 2023\n",
       "1108      08 October 2023\n",
       "Name: edate, Length: 1109, dtype: object"
      ]
     },
     "execution_count": 8,
     "metadata": {},
     "output_type": "execute_result"
    }
   ],
   "source": [
    "df['edate']"
   ]
  },
  {
   "cell_type": "code",
   "execution_count": 9,
   "id": "c7dfd1b8-a8b0-48c4-b47e-50f47f9a78a7",
   "metadata": {},
   "outputs": [
    {
     "data": {
      "text/plain": [
       "0        20 February 2020\n",
       "1        20 February 2020\n",
       "2        20 February 2020\n",
       "3        21 February 2020\n",
       "4        21 February 2020\n",
       "              ...        \n",
       "1104      26 October 2023\n",
       "1105      28 October 2023\n",
       "1106    30 September 2023\n",
       "1107      11 October 2023\n",
       "1108      08 October 2023\n",
       "Length: 2218, dtype: object"
      ]
     },
     "execution_count": 9,
     "metadata": {},
     "output_type": "execute_result"
    }
   ],
   "source": [
    "pd.concat([df['sdate'],df['edate']])"
   ]
  },
  {
   "cell_type": "code",
   "execution_count": 33,
   "id": "8708ff6c-ac23-4d2d-8d87-c56a2a61614f",
   "metadata": {},
   "outputs": [],
   "source": [
    "import numpy as np"
   ]
  },
  {
   "cell_type": "code",
   "execution_count": 34,
   "id": "4cb12a60-f55e-4661-934f-daf14b80342b",
   "metadata": {},
   "outputs": [],
   "source": [
    "s1 = np.concatenate([df['sdate'].to_numpy().reshape(-1,1),df['bags_count'].to_numpy().reshape(-1,1)],axis=1)\n",
    "s2 = np.concatenate([df['edate'].to_numpy().reshape(-1,1),df['bags_count'].to_numpy().reshape(-1,1)],axis=1)"
   ]
  },
  {
   "cell_type": "code",
   "execution_count": 35,
   "id": "e1ebd11f-7b71-4dad-8619-330a1aa5872c",
   "metadata": {},
   "outputs": [],
   "source": [
    "ar = np.concatenate([s1,s2])"
   ]
  },
  {
   "cell_type": "code",
   "execution_count": 48,
   "id": "51c984d3-3cd5-4e90-9617-06b7794b97c5",
   "metadata": {},
   "outputs": [],
   "source": [
    "df = pd.DataFrame(ar)"
   ]
  },
  {
   "cell_type": "code",
   "execution_count": 50,
   "id": "17bfff78-3f97-478c-92b7-30b7f5c43098",
   "metadata": {},
   "outputs": [],
   "source": [
    "df.to_excel('labour.xlsx')"
   ]
  },
  {
   "cell_type": "code",
   "execution_count": null,
   "id": "fbafbdd2-198b-4575-9e13-1bb5fbf2a8c2",
   "metadata": {},
   "outputs": [],
   "source": []
  }
 ],
 "metadata": {
  "kernelspec": {
   "display_name": "Python 3 (ipykernel)",
   "language": "python",
   "name": "python3"
  },
  "language_info": {
   "codemirror_mode": {
    "name": "ipython",
    "version": 3
   },
   "file_extension": ".py",
   "mimetype": "text/x-python",
   "name": "python",
   "nbconvert_exporter": "python",
   "pygments_lexer": "ipython3",
   "version": "3.11.5"
  }
 },
 "nbformat": 4,
 "nbformat_minor": 5
}
