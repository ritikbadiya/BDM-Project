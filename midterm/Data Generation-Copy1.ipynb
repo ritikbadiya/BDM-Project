{
 "cells": [
  {
   "cell_type": "code",
   "execution_count": 5,
   "id": "122f6740-6425-48af-9da7-709dd3e00793",
   "metadata": {},
   "outputs": [],
   "source": [
    "import scipy.stats as stats\n",
    "import numpy as np\n",
    "import random\n",
    "import pandas as pd\n",
    "from datetime import datetime, timedelta\n",
    "import matplotlib.pyplot as plt\n",
    "from scipy.stats import expon\n",
    "\n",
    "\n",
    "def loss(days):\n",
    "    a = 0.05  # Shape parameter a\n",
    "    b = 7  # Shape parameter b\n",
    "    sample_size = 300\n",
    "    random_sample = stats.beta.rvs(a, b, size=sample_size)\n",
    "    random_sample.sort()\n",
    "    rs = random_sample[::-1]\n",
    "    #return rs[:days].sum()\n",
    "    lambda_param = 0.01\n",
    "    return np.random.uniform(1.8,2.2)*expon.cdf(days, scale=1/lambda_param)"
   ]
  },
  {
   "cell_type": "code",
   "execution_count": null,
   "id": "6c284a27-e090-4b3e-b4f4-8efab84c88d1",
   "metadata": {},
   "outputs": [],
   "source": []
  },
  {
   "cell_type": "code",
   "execution_count": 6,
   "id": "650f122a-be3c-4071-ba23-9c7263819dd2",
   "metadata": {},
   "outputs": [],
   "source": [
    "def customer_entry_exit(initial_date):\n",
    "    mean = 30\n",
    "    dev=18\n",
    "    num_samples = 240\n",
    "    random_data = np.random.normal(mean, dev,num_samples)\n",
    "    random_data = random_data.astype('int32')\n",
    "    random_data = random_data[random_data>=0]\n",
    "    random_data.sort()\n",
    "    bc = np.bincount(random_data)\n",
    "    rn=random.randint(40,50)\n",
    "    bc = bc[(bc.size-rn)//2:rn+(bc.size-rn)//2]\n",
    "    num_samples=bc.sum()\n",
    "    random_data = np.random.exponential(0.1,num_samples)\n",
    "    random_data.sort()\n",
    "    random_data = random_data*30\n",
    "    random_data =random_data.astype('int64')\n",
    "    day = 250-(random_data*10) + np.random.randint(0,10,num_samples)\n",
    "    np.random.shuffle(day)\n",
    "    c=0\n",
    "    fl=[]\n",
    "    initial_date = datetime.fromisoformat(initial_date)\n",
    "\n",
    "    for i in range(bc.size):\n",
    "        for j in range(bc[i]):\n",
    "            sdate=initial_date + timedelta(days=i)\n",
    "            edate = initial_date +  timedelta(days=int(day[c]))\n",
    "            c+=1\n",
    "            fl.append([sdate,edate])\n",
    "    return fl\n",
    "    "
   ]
  },
  {
   "cell_type": "code",
   "execution_count": 7,
   "id": "8c9bed5d-7f80-49fc-a7eb-b3c145a81f96",
   "metadata": {},
   "outputs": [],
   "source": [
    "def gen_cus(date,item):\n",
    "    sdate=date[0].strftime(\"%d %B %Y\")\n",
    "    edate = date[1].strftime(\"%d %B %Y\")\n",
    "    days = (date[1]-date[0]).days\n",
    "    if item=='Wheat':\n",
    "        bags_count = random.randint(29,72)\n",
    "    else:\n",
    "        bags_count = random.randint(14,49)\n",
    "        \n",
    "    if item=='Chana':\n",
    "        charge_per_bag = 0.36\n",
    "    else:\n",
    "        charge_per_bag = 0.3\n",
    "    \n",
    "    total_weight_in = bags_count*90\n",
    "    total_weight_out = total_weight_in - (loss(days)*bags_count)\n",
    "    labour = 6\n",
    "    if days > 105:\n",
    "        charge = charge_per_bag*bags_count*days\n",
    "    else:\n",
    "        charge = charge_per_bag*bags_count*105\n",
    "    return [item,sdate,edate,days,bags_count,total_weight_in,round(total_weight_out,1),labour,int(charge)]"
   ]
  },
  {
   "cell_type": "code",
   "execution_count": 8,
   "id": "fee7b4db-55e1-48f0-8178-5e04b37d5353",
   "metadata": {},
   "outputs": [],
   "source": [
    "md = []\n",
    "for i in customer_entry_exit(\"2020-02-20\"):\n",
    "    md.append(gen_cus(i,random.choice([\"Wheat\",\"Chana\"])))\n",
    "\n",
    "for i in customer_entry_exit(\"2020-09-23\"):\n",
    "    md.append(gen_cus(i,\"Soyabean\"))\n",
    "\n",
    "for i in customer_entry_exit(\"2021-02-28\"):\n",
    "    md.append(gen_cus(i,random.choice([\"Wheat\",\"Chana\"])))\n",
    "\n",
    "for i in customer_entry_exit(\"2021-09-28\"):\n",
    "    md.append(gen_cus(i,\"Soyabean\"))\n",
    "\n",
    "for i in customer_entry_exit(\"2022-02-25\"):\n",
    "    md.append(gen_cus(i,random.choice([\"Wheat\",\"Chana\"])))\n",
    "\n",
    "for i in customer_entry_exit(\"2022-09-24\"):\n",
    "    md.append(gen_cus(i,\"Soyabean\"))\n",
    "\n",
    "for i in customer_entry_exit(\"2023-02-20\"):\n",
    "    md.append(gen_cus(i,random.choice([\"Wheat\",\"Chana\"])))\n",
    "\n",
    "\n",
    "for i in customer_entry_exit(\"2023-10-03\"):\n",
    "    md.append(gen_cus(i,\"Soyabean\"))"
   ]
  },
  {
   "cell_type": "code",
   "execution_count": 9,
   "id": "667bd69e-939d-4f8f-8a61-472fda8f6b1d",
   "metadata": {},
   "outputs": [],
   "source": [
    "columns = ['item', 'sdate', 'edate', 'days', 'bags_count', 'total_weight_in', 'total_weight_out', 'labour', 'charge']\n",
    "df = pd.DataFrame(md,columns=columns)\n",
    "\n"
   ]
  },
  {
   "cell_type": "code",
   "execution_count": null,
   "id": "1a9eef2d-8f32-4681-82c2-706d2c7556d6",
   "metadata": {},
   "outputs": [],
   "source": []
  },
  {
   "cell_type": "code",
   "execution_count": 10,
   "id": "3a5a8073-b86c-4323-9f9e-d03c20619505",
   "metadata": {},
   "outputs": [],
   "source": [
    "#df = df[df['sdate'] < datetime.fromisoformat('2023-10-31')]\n",
    "#df = df[df['edate'] < datetime.fromisoformat('2023-10-31')]\n"
   ]
  },
  {
   "cell_type": "code",
   "execution_count": null,
   "id": "084f4237-e539-4a08-a94b-35117a2a993c",
   "metadata": {},
   "outputs": [],
   "source": [
    "colors = {\"Wheat\":\"red\",\"Soyabean\": \"black\",\"Chana\":\"Green\"}\n",
    "plt.figure(figsize=(50,30))\n",
    "for i in df.iterrows():    \n",
    "    x_start = i[1]['sdate'].strftime('%d %B %Y')\n",
    "    x_end = i[1]['edate'].strftime('%d %B %Y')\n",
    "    y = i[1]['bags_count']\n",
    "    plt.plot([x_start, x_end], [y, y], marker='o', linestyle='-', color=colors[i[1]['item']])\n",
    "plt.savefig('fig1.png')    "
   ]
  },
  {
   "cell_type": "code",
   "execution_count": null,
   "id": "05f05c80-1338-42a6-b068-1f81aeb160b7",
   "metadata": {},
   "outputs": [],
   "source": []
  },
  {
   "cell_type": "code",
   "execution_count": null,
   "id": "70c6ed6d-3616-4287-97e2-b10863a24e2b",
   "metadata": {},
   "outputs": [],
   "source": []
  },
  {
   "cell_type": "code",
   "execution_count": null,
   "id": "82f2e821-20dd-422e-940c-f36bb4a2576d",
   "metadata": {},
   "outputs": [],
   "source": [
    "df.to_excel('data_generated-01.xlsx')"
   ]
  },
  {
   "cell_type": "code",
   "execution_count": null,
   "id": "29974f78-eec3-4ed2-81fc-2d380f569a7f",
   "metadata": {},
   "outputs": [],
   "source": []
  },
  {
   "cell_type": "code",
   "execution_count": null,
   "id": "60ba9ce4-7ce1-4d12-ae41-2cbf95b5d32f",
   "metadata": {},
   "outputs": [],
   "source": [
    "def loss(days):\n",
    "    a = 0.05  # Shape parameter a\n",
    "    b = 7  # Shape parameter b\n",
    "    sample_size = 300\n",
    "    random_sample = stats.beta.rvs(a, b, size=sample_size)\n",
    "    random_sample.sort()\n",
    "    rs = random_sample[::-1]\n",
    "    #return rs[:days].sum()\n",
    "    return "
   ]
  },
  {
   "cell_type": "code",
   "execution_count": null,
   "id": "5c8b15f7-e8c2-4363-b6ff-f7a27c901a1d",
   "metadata": {},
   "outputs": [],
   "source": [
    "loss(90)"
   ]
  },
  {
   "cell_type": "code",
   "execution_count": null,
   "id": "226298c6-b92a-4904-8da4-fde8e2b8c891",
   "metadata": {},
   "outputs": [],
   "source": [
    "import numpy as np\n",
    "import matplotlib.pyplot as plt\n",
    "from scipy.stats import expon\n",
    "\n",
    "# Set the lambda parameter for the exponential distribution\n",
    "lambda_param = 0.5\n",
    "\n",
    "# Number of random samples\n",
    "num_samples = 1000\n",
    "\n",
    "# Generate random samples from the exponential distribution\n",
    "random_samples = expon.rvs(scale=1/lambda_param, size=num_samples)\n",
    "\n",
    "# Plot the empirical CDF\n",
    "sorted_samples = np.sort(random_samples)\n",
    "ecdf = np.arange(1, len(sorted_samples) + 1) / len(sorted_samples)\n",
    "\n",
    "# Plotting\n",
    "plt.step(sorted_samples, ecdf, label='Empirical CDF')\n",
    "plt.plot(sorted_samples, expon.cdf(sorted_samples, scale=1/lambda_param), label='True CDF', linestyle='--', color='red')\n",
    "\n",
    "plt.title('Random Samples from Exponential Distribution using scipy.stats')\n",
    "plt.xlabel('X')\n",
    "plt.ylabel('Cumulative Probability')\n",
    "plt.legend()\n",
    "plt.show()\n"
   ]
  },
  {
   "cell_type": "code",
   "execution_count": null,
   "id": "76be8467-6f48-4d82-9bf7-6e5e2d85937b",
   "metadata": {},
   "outputs": [],
   "source": [
    "lambda_param = 0.01\n",
    "for i in range(1,250):\n",
    "    print(i,np.random.uniform(1.8,2.2)*expon.cdf(i, scale=1/lambda_param))"
   ]
  },
  {
   "cell_type": "code",
   "execution_count": null,
   "id": "3af3e6be-06a7-4d43-8b67-8e9337ea16b9",
   "metadata": {},
   "outputs": [],
   "source": []
  },
  {
   "cell_type": "code",
   "execution_count": null,
   "id": "b5897725-2d71-4810-9215-624826fddb6e",
   "metadata": {},
   "outputs": [],
   "source": []
  },
  {
   "cell_type": "code",
   "execution_count": null,
   "id": "b17d6a72-330b-4982-bd68-a3e8a7aa4bb7",
   "metadata": {},
   "outputs": [],
   "source": []
  }
 ],
 "metadata": {
  "kernelspec": {
   "display_name": "Python 3 (ipykernel)",
   "language": "python",
   "name": "python3"
  },
  "language_info": {
   "codemirror_mode": {
    "name": "ipython",
    "version": 3
   },
   "file_extension": ".py",
   "mimetype": "text/x-python",
   "name": "python",
   "nbconvert_exporter": "python",
   "pygments_lexer": "ipython3",
   "version": "3.11.5"
  }
 },
 "nbformat": 4,
 "nbformat_minor": 5
}
